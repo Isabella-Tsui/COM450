{
 "cells": [
  {
   "cell_type": "markdown",
   "id": "7618c611",
   "metadata": {},
   "source": [
    "# Process Notes"
   ]
  },
  {
   "cell_type": "markdown",
   "id": "e73032e3",
   "metadata": {},
   "source": [
    "## Fri Jun 27"
   ]
  },
  {
   "cell_type": "markdown",
   "id": "f88b40d7",
   "metadata": {},
   "source": [
    "1. Looked at the data, it was very ugly. Many cells were missing infomation :(\n",
    "\n",
    "- Things that I notice that are immediately wrong\n",
    "    - Unknowns\n",
    "        - There is a bunch of missing or ‘unknown’ values \n",
    "        - Did countblanks() on each column \n",
    "        ![countblanks](../images/countblanks.png)\n",
    "        - Ones that I am worried about are date and transistors \n",
    "    - Dates\n",
    "        - Some of the dates are in general and some are in date\n",
    "        - Different formats\n",
    "            - 5/22/00\n",
    "            - 2006-06-01\n",
    "            - Empty cell \n",
    "\n",
    "2. Wrote a python script to fix this (see dateParser.py). This produces an output.csv file with the right dates.\n",
    "\n",
    "3. Did a quick scan for the type \n",
    "\n",
    "    - Type\n",
    "        - There’s CPU and GPU\n",
    "        - Might have to break the dataset into 2 (need to research more)\n",
    "\n",
    "4. Didn't know what Process Size meant and had to search it up\n",
    "5. Finish making the data dictionary  \n",
    "6. Find out that Intel has stopped putting transistor data for their CPUs past 2009 and cry\n",
    "\n"
   ]
  }
 ],
 "metadata": {
  "language_info": {
   "name": "python"
  }
 },
 "nbformat": 4,
 "nbformat_minor": 5
}
