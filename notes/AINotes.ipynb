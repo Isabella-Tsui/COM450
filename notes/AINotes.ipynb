{
 "cells": [
  {
   "cell_type": "markdown",
   "id": "dfc33531",
   "metadata": {},
   "source": [
    "# Term Project Notes"
   ]
  },
  {
   "cell_type": "markdown",
   "id": "f176ac27",
   "metadata": {},
   "source": [
    "## What is Artifical Intelligence?"
   ]
  },
  {
   "cell_type": "markdown",
   "id": "051822c6",
   "metadata": {},
   "source": [
    "Artificial intelligence (AI) is technology that enables computers and machines to simulate human learning, comprehension, problem solving, decision making, creativity and autonomy.\n",
    "\n",
    "https://www.ibm.com/think/topics/artificial-intelligence\n",
    "\n"
   ]
  },
  {
   "cell_type": "markdown",
   "id": "72d53697",
   "metadata": {},
   "source": [
    "## What is Moore's Law?"
   ]
  },
  {
   "cell_type": "markdown",
   "id": "58aa8f2f",
   "metadata": {},
   "source": [
    "An observation, made by Gordon Moore in 1965, that the number of transistors on an integrated circuit will double every two years with minimal rise in cost."
   ]
  },
  {
   "cell_type": "markdown",
   "id": "4e883ac9",
   "metadata": {},
   "source": [
    "## Why is Moore's law important with respect to AI?"
   ]
  },
  {
   "cell_type": "markdown",
   "id": "564beae8",
   "metadata": {},
   "source": [
    "Semiconductors assist in processing vast amounts of data quickly and accurately. This capability is instrumental in fueling a wide range of applications, from predictive analytics to natural language processing. Semiconductors power the algorithms and computations that underpin these AI-driven tasks, enabling businesses and organizations to derive valuable insights from their data and make informed decisions.\n",
    "\n",
    "### Applications\n",
    "\n",
    "- Speed up the training of deep neural networks\n",
    "- Medical image analysis and diagnosis\n",
    "- Autonomous veichle sensors \n",
    "- Real time data analysis\n",
    "- Distributed computing (e.g. IoT)\n",
    "- Advancements in Graphics Processing Units (GPUs) and Field Programmable Gate Arrays (FPGAs)\n"
   ]
  },
  {
   "cell_type": "markdown",
   "id": "119b5751",
   "metadata": {},
   "source": [
    "## Semiconductor Producers"
   ]
  },
  {
   "cell_type": "markdown",
   "id": "cc897fd0",
   "metadata": {},
   "source": [
    "- Intel Corporation\n",
    "- Samsung Electronics\n",
    "- Taiwan Semiconductor Manufacturing Company (TSMC)\n",
    "- Nvidia Corporation\n",
    "- Advanced Micro Devices (AMD)\n"
   ]
  },
  {
   "cell_type": "markdown",
   "id": "e56cb924",
   "metadata": {},
   "source": [
    "## AI Timeline"
   ]
  },
  {
   "cell_type": "markdown",
   "id": "83af5ae1",
   "metadata": {},
   "source": [
    "![History of AI](../images/HistoryofAI.png)\n",
    "\n",
    "The inception of artificial intelligence (1943–1956)\n",
    "Early enthusiasm, great expectations (1952–1969)\n",
    "A dose of reality (1966–1973)\n",
    "Expert systems (1969–1986)\n",
    "The return of neural networks (1986–present)\n",
    "\n",
    "\n"
   ]
  },
  {
   "cell_type": "markdown",
   "id": "a64acce2",
   "metadata": {},
   "source": [
    "## Future of Semiconductors and AI"
   ]
  },
  {
   "cell_type": "markdown",
   "id": "3202501c",
   "metadata": {},
   "source": [
    "- Quantum computing\n",
    "- Neuromorphic chips"
   ]
  }
 ],
 "metadata": {
  "kernelspec": {
   "display_name": "Python 3",
   "language": "python",
   "name": "python3"
  },
  "language_info": {
   "name": "python",
   "version": "3.9.6"
  }
 },
 "nbformat": 4,
 "nbformat_minor": 5
}
