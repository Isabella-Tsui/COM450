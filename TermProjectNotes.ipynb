{
 "cells": [
  {
   "cell_type": "markdown",
   "id": "dfc33531",
   "metadata": {},
   "source": [
    "# Term Project Notes"
   ]
  },
  {
   "cell_type": "markdown",
   "id": "f176ac27",
   "metadata": {},
   "source": [
    "## What is AI"
   ]
  }
 ],
 "metadata": {
  "kernelspec": {
   "display_name": "Python 3",
   "language": "python",
   "name": "python3"
  },
  "language_info": {
   "name": "python",
   "version": "3.9.6"
  }
 },
 "nbformat": 4,
 "nbformat_minor": 5
}
